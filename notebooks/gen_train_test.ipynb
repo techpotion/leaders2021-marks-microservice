{
 "metadata": {
  "language_info": {
   "codemirror_mode": {
    "name": "ipython",
    "version": 3
   },
   "file_extension": ".py",
   "mimetype": "text/x-python",
   "name": "python",
   "nbconvert_exporter": "python",
   "pygments_lexer": "ipython3",
   "version": "3.9.6-final"
  },
  "orig_nbformat": 2,
  "kernelspec": {
   "name": "python39664bitenvdc80ea6055e34e4499bab4f52222b64a",
   "display_name": "Python 3.9.6 64-bit ('env')"
  }
 },
 "nbformat": 4,
 "nbformat_minor": 2,
 "cells": [
  {
   "cell_type": "code",
   "execution_count": 76,
   "metadata": {},
   "outputs": [],
   "source": [
    "import pandas as pd\n",
    "import random"
   ]
  },
  {
   "cell_type": "code",
   "execution_count": 77,
   "metadata": {},
   "outputs": [],
   "source": [
    "COLUMNS = ['sportsObjectsAmountPer100k', 'sportsAmountPer100k', 'areasSquarePer100k', 'subwayDistance', 'pollutedPointsPercentage', 'result']\n",
    "OBJECTS_OK = 300\n",
    "AMOUNT_OK = 50\n",
    "SQUARE_OK = 400000\n",
    "SUBWAY_DIST_OK = 1500\n",
    "POLLUTION_OK = 0.1"
   ]
  },
  {
   "cell_type": "code",
   "execution_count": 78,
   "metadata": {},
   "outputs": [],
   "source": [
    "def generate_new_polygon_row(expected_class: int = 1) -> dict:\n",
    "    if expected_class == 1:\n",
    "        sports_objects_amount_per_100k = random.randrange(OBJECTS_OK, 500) # количество спортивных зон на 100к человек (единицы)\n",
    "        sports_amount_per_100k = random.randrange(AMOUNT_OK, 500) # количество различных видов спорта на 100к человек (единицы)\n",
    "        areas_square_per_100k = random.uniform(SQUARE_OK, 1500000.) # суммарная площадь спортивных зон на 100к человек (метры^2)\n",
    "        subway_distance = random.uniform(0, SUBWAY_DIST_OK) # средняя удаленность до метро в полигоне (метры)\n",
    "        polluted_points_percentage = random.uniform(0., POLLUTION_OK) # процентное соотношение \"грязных\" точек к суммарному их числу (проценты в виде десятичной дроби)\n",
    "        poly_dict = {\n",
    "            'sportsObjectsAmountPer100k': sports_objects_amount_per_100k,\n",
    "            'sportsAmountPer100k': sports_amount_per_100k,\n",
    "            'areasSquarePer100k': areas_square_per_100k,\n",
    "            'subwayDistance': subway_distance,\n",
    "            'pollutedPointsPercentage': polluted_points_percentage,\n",
    "            'result': 1\n",
    "        }   \n",
    "        return poly_dict\n",
    "        \n",
    "    else:\n",
    "        sports_objects_amount_per_100k = random.randrange(0, OBJECTS_OK) # количество спортивных зон на 100к человек (единицы)\n",
    "        sports_amount_per_100k = random.randrange(0, AMOUNT_OK) # количество различных видов спорта на 100к человек (единицы)\n",
    "        areas_square_per_100k = random.uniform(0., SQUARE_OK) # суммарная площадь спортивных зон на 100к человек (метры^2)\n",
    "        subway_distance = random.uniform(SUBWAY_DIST_OK, 8000) # средняя удаленность до метро в полигоне (метры)\n",
    "        polluted_points_percentage = random.uniform(POLLUTION_OK, 1) # процентное соотношение \"грязных\" точек к суммарному их числу (проценты в виде десятичной дроби)\n",
    "        poly_dict = {\n",
    "            'sportsObjectsAmountPer100k': sports_objects_amount_per_100k,\n",
    "            'sportsAmountPer100k': sports_amount_per_100k,\n",
    "            'areasSquarePer100k': areas_square_per_100k,\n",
    "            'subwayDistance': subway_distance,\n",
    "            'pollutedPointsPercentage': polluted_points_percentage,\n",
    "            'result': 0\n",
    "        }   \n",
    "        return poly_dict"
   ]
  },
  {
   "cell_type": "code",
   "execution_count": 79,
   "metadata": {},
   "outputs": [],
   "source": [
    "def generate_polygons_dataset(lines: int = 5000) -> pd.DataFrame:\n",
    "    df = pd.DataFrame(columns=COLUMNS)\n",
    "    for _ in range(int(lines/2)):\n",
    "        new_1_row = generate_new_polygon_row(1)\n",
    "        new_0_row = generate_new_polygon_row(0)\n",
    "        df = df.append(new_1_row, ignore_index=True)\n",
    "        df = df.append(new_0_row, ignore_index=True)\n",
    "    return df"
   ]
  },
  {
   "cell_type": "code",
   "execution_count": 80,
   "metadata": {},
   "outputs": [
    {
     "output_type": "execute_result",
     "data": {
      "text/plain": [
       "   sportsObjectsAmountPer100k  sportsAmountPer100k  areasSquarePer100k  \\\n",
       "0                       456.0                392.0        8.144922e+05   \n",
       "1                       293.0                 49.0        9.381070e+04   \n",
       "2                       399.0                431.0        1.128711e+06   \n",
       "3                        49.0                 12.0        2.074686e+04   \n",
       "4                       340.0                491.0        8.917660e+05   \n",
       "\n",
       "   subwayDistance  pollutedPointsPercentage  result  \n",
       "0      992.914370                  0.031791     1.0  \n",
       "1     5880.722656                  0.314939     0.0  \n",
       "2      220.330765                  0.003771     1.0  \n",
       "3     7494.190730                  0.480531     0.0  \n",
       "4     1234.783177                  0.084751     1.0  "
      ],
      "text/html": "<div>\n<style scoped>\n    .dataframe tbody tr th:only-of-type {\n        vertical-align: middle;\n    }\n\n    .dataframe tbody tr th {\n        vertical-align: top;\n    }\n\n    .dataframe thead th {\n        text-align: right;\n    }\n</style>\n<table border=\"1\" class=\"dataframe\">\n  <thead>\n    <tr style=\"text-align: right;\">\n      <th></th>\n      <th>sportsObjectsAmountPer100k</th>\n      <th>sportsAmountPer100k</th>\n      <th>areasSquarePer100k</th>\n      <th>subwayDistance</th>\n      <th>pollutedPointsPercentage</th>\n      <th>result</th>\n    </tr>\n  </thead>\n  <tbody>\n    <tr>\n      <th>0</th>\n      <td>456.0</td>\n      <td>392.0</td>\n      <td>8.144922e+05</td>\n      <td>992.914370</td>\n      <td>0.031791</td>\n      <td>1.0</td>\n    </tr>\n    <tr>\n      <th>1</th>\n      <td>293.0</td>\n      <td>49.0</td>\n      <td>9.381070e+04</td>\n      <td>5880.722656</td>\n      <td>0.314939</td>\n      <td>0.0</td>\n    </tr>\n    <tr>\n      <th>2</th>\n      <td>399.0</td>\n      <td>431.0</td>\n      <td>1.128711e+06</td>\n      <td>220.330765</td>\n      <td>0.003771</td>\n      <td>1.0</td>\n    </tr>\n    <tr>\n      <th>3</th>\n      <td>49.0</td>\n      <td>12.0</td>\n      <td>2.074686e+04</td>\n      <td>7494.190730</td>\n      <td>0.480531</td>\n      <td>0.0</td>\n    </tr>\n    <tr>\n      <th>4</th>\n      <td>340.0</td>\n      <td>491.0</td>\n      <td>8.917660e+05</td>\n      <td>1234.783177</td>\n      <td>0.084751</td>\n      <td>1.0</td>\n    </tr>\n  </tbody>\n</table>\n</div>"
     },
     "metadata": {},
     "execution_count": 80
    }
   ],
   "source": [
    "df = generate_polygons_dataset()\n",
    "df.head()"
   ]
  },
  {
   "cell_type": "code",
   "execution_count": null,
   "metadata": {},
   "outputs": [],
   "source": [
    "df.to_csv('assets/train.csv')"
   ]
  }
 ]
}