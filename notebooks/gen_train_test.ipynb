{
 "cells": [
  {
   "cell_type": "code",
   "execution_count": 16,
   "metadata": {},
   "outputs": [],
   "source": [
    "import pandas as pd\n",
    "import random"
   ]
  },
  {
   "cell_type": "code",
   "execution_count": 17,
   "metadata": {},
   "outputs": [],
   "source": [
    "COLUMNS = ['sportsObjectsAmountPer100k', 'sportsAmountPer100k', 'areasSquarePer100k', 'subwayDistance', 'pollutedPointsPercentage', 'result']\n",
    "OBJECTS_OK = 300\n",
    "AMOUNT_OK = 50\n",
    "SQUARE_OK = 400000\n",
    "SUBWAY_DIST_OK = 1500\n",
    "POLLUTION_OK = 0.1"
   ]
  },
  {
   "cell_type": "code",
   "execution_count": 18,
   "metadata": {},
   "outputs": [],
   "source": [
    "def poly_classify(poly_dict: dict) -> int:\n",
    "    if poly_dict['sportsObjectsAmountPer100k'] >= OBJECTS_OK and\\\n",
    "       poly_dict['sportsAmountPer100k'] >= AMOUNT_OK and\\\n",
    "       poly_dict['areasSquarePer100k'] >= SQUARE_OK and\\\n",
    "       poly_dict['subwayDistance'] <= SUBWAY_DIST_OK and\\\n",
    "       poly_dict['subwayDistance'] <= POLLUTION_OK:\n",
    "       return 1\n",
    "    return 0"
   ]
  },
  {
   "cell_type": "code",
   "execution_count": 19,
   "metadata": {},
   "outputs": [],
   "source": [
    "def generate_new_polygon_row(expected_class: int = 1) -> dict:\n",
    "    if expected_class == 1:\n",
    "        sports_objects_amount_per_100k = random.randrange(OBJECTS_OK, 500) # количество спортивных зон на 100к человек (единицы)\n",
    "        sports_amount_per_100k = random.randrange(AMOUNT_OK, 500) # количество различных видов спорта на 100к человек (единицы)\n",
    "        areas_square_per_100k = random.uniform(SQUARE_OK, 1500000.) # суммарная площадь спортивных зон на 100к человек (метры^2)\n",
    "        subway_distance = random.uniform(0, SUBWAY_DIST_OK) # средняя удаленность до метро в полигоне (метры)\n",
    "        polluted_points_percentage = random.uniform(0., POLLUTION_OK) # процентное соотношение \"грязных\" точек к суммарному их числу (проценты в виде десятичной дроби)\n",
    "        poly_dict = {\n",
    "            'sportsObjectsAmountPer100k': sports_objects_amount_per_100k,\n",
    "            'sportsAmountPer100k': sports_amount_per_100k,\n",
    "            'areasSquarePer100k': areas_square_per_100k,\n",
    "            'subwayDistance': subway_distance,\n",
    "            'pollutedPointsPercentage': polluted_points_percentage,\n",
    "            'result': 1\n",
    "        }   \n",
    "        return poly_dict\n",
    "        \n",
    "    elif expected_class == 0:\n",
    "        sports_objects_amount_per_100k = random.randrange(0, OBJECTS_OK) # количество спортивных зон на 100к человек (единицы)\n",
    "        sports_amount_per_100k = random.randrange(0, AMOUNT_OK) # количество различных видов спорта на 100к человек (единицы)\n",
    "        areas_square_per_100k = random.uniform(0., SQUARE_OK) # суммарная площадь спортивных зон на 100к человек (метры^2)\n",
    "        subway_distance = random.uniform(SUBWAY_DIST_OK, 8000) # средняя удаленность до метро в полигоне (метры)\n",
    "        polluted_points_percentage = random.uniform(POLLUTION_OK, 1) # процентное соотношение \"грязных\" точек к суммарному их числу (проценты в виде десятичной дроби)\n",
    "        poly_dict = {\n",
    "            'sportsObjectsAmountPer100k': sports_objects_amount_per_100k,\n",
    "            'sportsAmountPer100k': sports_amount_per_100k,\n",
    "            'areasSquarePer100k': areas_square_per_100k,\n",
    "            'subwayDistance': subway_distance,\n",
    "            'pollutedPointsPercentage': polluted_points_percentage,\n",
    "            'result': 0\n",
    "        }   \n",
    "        return poly_dict\n",
    "    \n",
    "    else:\n",
    "        sports_objects_amount_per_100k = random.randrange(0, 500) # количество спортивных зон на 100к человек (единицы)\n",
    "        sports_amount_per_100k = random.randrange(0, 500) # количество различных видов спорта на 100к человек (единицы)\n",
    "        areas_square_per_100k = random.uniform(0., 1500000.) # суммарная площадь спортивных зон на 100к человек (метры^2)\n",
    "        subway_distance = random.uniform(0, 8000) # средняя удаленность до метро в полигоне (метры)\n",
    "        polluted_points_percentage = random.uniform(0, 1) # процентное соотношение \"грязных\" точек к суммарному их числу (проценты в виде десятичной дроби)\n",
    "        poly_dict = {\n",
    "            'sportsObjectsAmountPer100k': sports_objects_amount_per_100k,\n",
    "            'sportsAmountPer100k': sports_amount_per_100k,\n",
    "            'areasSquarePer100k': areas_square_per_100k,\n",
    "            'subwayDistance': subway_distance,\n",
    "            'pollutedPointsPercentage': polluted_points_percentage,\n",
    "        }   \n",
    "        poly_dict['result'] = poly_classify(poly_dict)\n",
    "        return poly_dict"
   ]
  },
  {
   "cell_type": "code",
   "execution_count": 20,
   "metadata": {},
   "outputs": [],
   "source": [
    "def generate_polygons_dataset(lines: int = 5000) -> pd.DataFrame:\n",
    "    df = pd.DataFrame(columns=COLUMNS)\n",
    "    for _ in range(int(lines/3)):\n",
    "        new_0_row = generate_new_polygon_row(0)\n",
    "        new_1_row = generate_new_polygon_row(1)\n",
    "        new_2_row = generate_new_polygon_row(2)\n",
    "        df = df.append(new_0_row, ignore_index=True)\n",
    "        df = df.append(new_1_row, ignore_index=True)\n",
    "        df = df.append(new_2_row, ignore_index=True)\n",
    "    return df"
   ]
  },
  {
   "cell_type": "code",
   "execution_count": 21,
   "metadata": {},
   "outputs": [
    {
     "data": {
      "text/html": [
       "<div>\n",
       "<style scoped>\n",
       "    .dataframe tbody tr th:only-of-type {\n",
       "        vertical-align: middle;\n",
       "    }\n",
       "\n",
       "    .dataframe tbody tr th {\n",
       "        vertical-align: top;\n",
       "    }\n",
       "\n",
       "    .dataframe thead th {\n",
       "        text-align: right;\n",
       "    }\n",
       "</style>\n",
       "<table border=\"1\" class=\"dataframe\">\n",
       "  <thead>\n",
       "    <tr style=\"text-align: right;\">\n",
       "      <th></th>\n",
       "      <th>sportsObjectsAmountPer100k</th>\n",
       "      <th>sportsAmountPer100k</th>\n",
       "      <th>areasSquarePer100k</th>\n",
       "      <th>subwayDistance</th>\n",
       "      <th>pollutedPointsPercentage</th>\n",
       "      <th>result</th>\n",
       "    </tr>\n",
       "  </thead>\n",
       "  <tbody>\n",
       "    <tr>\n",
       "      <th>0</th>\n",
       "      <td>196.0</td>\n",
       "      <td>30.0</td>\n",
       "      <td>1.974036e+05</td>\n",
       "      <td>3394.338193</td>\n",
       "      <td>0.845349</td>\n",
       "      <td>0.0</td>\n",
       "    </tr>\n",
       "    <tr>\n",
       "      <th>1</th>\n",
       "      <td>395.0</td>\n",
       "      <td>194.0</td>\n",
       "      <td>1.119281e+06</td>\n",
       "      <td>122.853231</td>\n",
       "      <td>0.005379</td>\n",
       "      <td>1.0</td>\n",
       "    </tr>\n",
       "    <tr>\n",
       "      <th>2</th>\n",
       "      <td>67.0</td>\n",
       "      <td>447.0</td>\n",
       "      <td>1.328228e+06</td>\n",
       "      <td>6719.077349</td>\n",
       "      <td>0.135960</td>\n",
       "      <td>0.0</td>\n",
       "    </tr>\n",
       "    <tr>\n",
       "      <th>3</th>\n",
       "      <td>196.0</td>\n",
       "      <td>23.0</td>\n",
       "      <td>1.846928e+05</td>\n",
       "      <td>7856.788927</td>\n",
       "      <td>0.166539</td>\n",
       "      <td>0.0</td>\n",
       "    </tr>\n",
       "    <tr>\n",
       "      <th>4</th>\n",
       "      <td>300.0</td>\n",
       "      <td>151.0</td>\n",
       "      <td>1.149871e+06</td>\n",
       "      <td>981.043830</td>\n",
       "      <td>0.037876</td>\n",
       "      <td>1.0</td>\n",
       "    </tr>\n",
       "  </tbody>\n",
       "</table>\n",
       "</div>"
      ],
      "text/plain": [
       "   sportsObjectsAmountPer100k  sportsAmountPer100k  areasSquarePer100k  \\\n",
       "0                       196.0                 30.0        1.974036e+05   \n",
       "1                       395.0                194.0        1.119281e+06   \n",
       "2                        67.0                447.0        1.328228e+06   \n",
       "3                       196.0                 23.0        1.846928e+05   \n",
       "4                       300.0                151.0        1.149871e+06   \n",
       "\n",
       "   subwayDistance  pollutedPointsPercentage  result  \n",
       "0     3394.338193                  0.845349     0.0  \n",
       "1      122.853231                  0.005379     1.0  \n",
       "2     6719.077349                  0.135960     0.0  \n",
       "3     7856.788927                  0.166539     0.0  \n",
       "4      981.043830                  0.037876     1.0  "
      ]
     },
     "execution_count": 21,
     "metadata": {},
     "output_type": "execute_result"
    }
   ],
   "source": [
    "df = generate_polygons_dataset()\n",
    "df.head()"
   ]
  },
  {
   "cell_type": "code",
   "execution_count": 22,
   "metadata": {},
   "outputs": [],
   "source": [
    "df.to_csv('../assets/train.csv', index_label=False)"
   ]
  },
  {
   "cell_type": "code",
   "execution_count": null,
   "metadata": {},
   "outputs": [],
   "source": []
  }
 ],
 "metadata": {
  "interpreter": {
   "hash": "aee8b7b246df8f9039afb4144a1f6fd8d2ca17a180786b69acc140d282b71a49"
  },
  "kernelspec": {
   "display_name": "Python 3.9.5 64-bit",
   "name": "python3"
  },
  "language_info": {
   "codemirror_mode": {
    "name": "ipython",
    "version": 3
   },
   "file_extension": ".py",
   "mimetype": "text/x-python",
   "name": "python",
   "nbconvert_exporter": "python",
   "pygments_lexer": "ipython3",
   "version": "3.9.5"
  },
  "orig_nbformat": 2
 },
 "nbformat": 4,
 "nbformat_minor": 2
}
