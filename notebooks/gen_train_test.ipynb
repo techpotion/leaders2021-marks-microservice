{
 "cells": [
  {
   "cell_type": "code",
   "execution_count": 21,
   "metadata": {},
   "outputs": [],
   "source": [
    "import pandas as pd\n",
    "import random"
   ]
  },
  {
   "cell_type": "code",
   "execution_count": 22,
   "metadata": {},
   "outputs": [],
   "source": [
    "COLUMNS = ['areasAmountPer100k', 'sportsAmountPer100k', 'areasSquarePer100k', 'subwayDistance', 'pollutedPointsPercentage', 'result']\n",
    "OBJECTS_OK = 300\n",
    "AMOUNT_OK = 50\n",
    "SQUARE_OK = 400000\n",
    "SUBWAY_DIST_OK = 1500\n",
    "POLLUTION_OK = 0.1"
   ]
  },
  {
   "cell_type": "code",
   "execution_count": 23,
   "metadata": {},
   "outputs": [],
   "source": [
    "def poly_classify(poly_dict: dict) -> int:\n",
    "    if poly_dict['areasAmountPer100k'] >= OBJECTS_OK and\\\n",
    "       poly_dict['sportsAmountPer100k'] >= AMOUNT_OK and\\\n",
    "       poly_dict['areasSquarePer100k'] >= SQUARE_OK and\\\n",
    "       poly_dict['subwayDistance'] <= SUBWAY_DIST_OK and\\\n",
    "       poly_dict['subwayDistance'] <= POLLUTION_OK:\n",
    "       return 1\n",
    "    return 0"
   ]
  },
  {
   "cell_type": "code",
   "execution_count": 24,
   "metadata": {},
   "outputs": [],
   "source": [
    "def generate_new_polygon_row(expected_class: int = 1) -> dict:\n",
    "    if expected_class == 1:\n",
    "        areas_amount_per_100k = random.randrange(OBJECTS_OK, 600) # количество спортивных зон на 100к человек (единицы)\n",
    "        sports_amount_per_100k = random.randrange(AMOUNT_OK, 500) # количество различных видов спорта на 100к человек (единицы)\n",
    "        areas_square_per_100k = random.uniform(SQUARE_OK, 1500000.) # суммарная площадь спортивных зон на 100к человек (метры^2)\n",
    "        subway_distance = random.uniform(0, SUBWAY_DIST_OK) # средняя удаленность до метро в полигоне (метры)\n",
    "        polluted_points_percentage = random.uniform(0., POLLUTION_OK) # процентное соотношение \"грязных\" точек к суммарному их числу (проценты в виде десятичной дроби)\n",
    "        poly_dict = {\n",
    "            'areasAmountPer100k': areas_amount_per_100k,\n",
    "            'sportsAmountPer100k': sports_amount_per_100k,\n",
    "            'areasSquarePer100k': areas_square_per_100k,\n",
    "            'subwayDistance': subway_distance,\n",
    "            'pollutedPointsPercentage': polluted_points_percentage,\n",
    "            'result': 1\n",
    "        }   \n",
    "        return poly_dict\n",
    "        \n",
    "    elif expected_class == 0:\n",
    "        areas_amount_per_100k = random.randrange(0, OBJECTS_OK) # количество спортивных зон на 100к человек (единицы)\n",
    "        sports_amount_per_100k = random.randrange(0, AMOUNT_OK) # количество различных видов спорта на 100к человек (единицы)\n",
    "        areas_square_per_100k = random.uniform(0., SQUARE_OK) # суммарная площадь спортивных зон на 100к человек (метры^2)\n",
    "        subway_distance = random.uniform(SUBWAY_DIST_OK, 8000) # средняя удаленность до метро в полигоне (метры)\n",
    "        polluted_points_percentage = random.uniform(POLLUTION_OK, 1) # процентное соотношение \"грязных\" точек к суммарному их числу (проценты в виде десятичной дроби)\n",
    "        poly_dict = {\n",
    "            'areasAmountPer100k': areas_amount_per_100k,\n",
    "            'sportsAmountPer100k': sports_amount_per_100k,\n",
    "            'areasSquarePer100k': areas_square_per_100k,\n",
    "            'subwayDistance': subway_distance,\n",
    "            'pollutedPointsPercentage': polluted_points_percentage,\n",
    "            'result': 0\n",
    "        }   \n",
    "        return poly_dict\n",
    "    \n",
    "    else:\n",
    "        areas_amount_per_100k = random.randrange(0, 500) # количество спортивных зон на 100к человек (единицы)\n",
    "        sports_amount_per_100k = random.randrange(0, 500) # количество различных видов спорта на 100к человек (единицы)\n",
    "        areas_square_per_100k = random.uniform(0., 1500000.) # суммарная площадь спортивных зон на 100к человек (метры^2)\n",
    "        subway_distance = random.uniform(0, 8000) # средняя удаленность до метро в полигоне (метры)\n",
    "        polluted_points_percentage = random.uniform(0, 1) # процентное соотношение \"грязных\" точек к суммарному их числу (проценты в виде десятичной дроби)\n",
    "        poly_dict = {\n",
    "            'areasAmountPer100k': areas_amount_per_100k,\n",
    "            'sportsAmountPer100k': sports_amount_per_100k,\n",
    "            'areasSquarePer100k': areas_square_per_100k,\n",
    "            'subwayDistance': subway_distance,\n",
    "            'pollutedPointsPercentage': polluted_points_percentage,\n",
    "        }   \n",
    "        poly_dict['result'] = poly_classify(poly_dict)\n",
    "        return poly_dict"
   ]
  },
  {
   "cell_type": "code",
   "execution_count": 25,
   "metadata": {},
   "outputs": [],
   "source": [
    "def generate_polygons_dataset(lines: int = 9999) -> pd.DataFrame:\n",
    "    df = pd.DataFrame(columns=COLUMNS)\n",
    "    for _ in range(int(lines/3)):\n",
    "        new_0_row = generate_new_polygon_row(0)\n",
    "        new_1_row = generate_new_polygon_row(1)\n",
    "        new_2_row = generate_new_polygon_row(2)\n",
    "        df = df.append(new_0_row, ignore_index=True)\n",
    "        df = df.append(new_1_row, ignore_index=True)\n",
    "        df = df.append(new_2_row, ignore_index=True)\n",
    "    return df"
   ]
  },
  {
   "cell_type": "code",
   "execution_count": 26,
   "metadata": {},
   "outputs": [
    {
     "data": {
      "text/html": [
       "<div>\n",
       "<style scoped>\n",
       "    .dataframe tbody tr th:only-of-type {\n",
       "        vertical-align: middle;\n",
       "    }\n",
       "\n",
       "    .dataframe tbody tr th {\n",
       "        vertical-align: top;\n",
       "    }\n",
       "\n",
       "    .dataframe thead th {\n",
       "        text-align: right;\n",
       "    }\n",
       "</style>\n",
       "<table border=\"1\" class=\"dataframe\">\n",
       "  <thead>\n",
       "    <tr style=\"text-align: right;\">\n",
       "      <th></th>\n",
       "      <th>areasAmountPer100k</th>\n",
       "      <th>sportsAmountPer100k</th>\n",
       "      <th>areasSquarePer100k</th>\n",
       "      <th>subwayDistance</th>\n",
       "      <th>pollutedPointsPercentage</th>\n",
       "      <th>result</th>\n",
       "    </tr>\n",
       "  </thead>\n",
       "  <tbody>\n",
       "    <tr>\n",
       "      <th>0</th>\n",
       "      <td>47.0</td>\n",
       "      <td>8.0</td>\n",
       "      <td>9.424447e+04</td>\n",
       "      <td>7455.318933</td>\n",
       "      <td>0.349918</td>\n",
       "      <td>0.0</td>\n",
       "    </tr>\n",
       "    <tr>\n",
       "      <th>1</th>\n",
       "      <td>367.0</td>\n",
       "      <td>409.0</td>\n",
       "      <td>9.516157e+05</td>\n",
       "      <td>501.267974</td>\n",
       "      <td>0.059712</td>\n",
       "      <td>1.0</td>\n",
       "    </tr>\n",
       "    <tr>\n",
       "      <th>2</th>\n",
       "      <td>363.0</td>\n",
       "      <td>371.0</td>\n",
       "      <td>1.085274e+05</td>\n",
       "      <td>5325.461064</td>\n",
       "      <td>0.825411</td>\n",
       "      <td>0.0</td>\n",
       "    </tr>\n",
       "    <tr>\n",
       "      <th>3</th>\n",
       "      <td>71.0</td>\n",
       "      <td>17.0</td>\n",
       "      <td>1.316948e+05</td>\n",
       "      <td>4402.023516</td>\n",
       "      <td>0.784045</td>\n",
       "      <td>0.0</td>\n",
       "    </tr>\n",
       "    <tr>\n",
       "      <th>4</th>\n",
       "      <td>455.0</td>\n",
       "      <td>354.0</td>\n",
       "      <td>1.167945e+06</td>\n",
       "      <td>1369.468241</td>\n",
       "      <td>0.039521</td>\n",
       "      <td>1.0</td>\n",
       "    </tr>\n",
       "  </tbody>\n",
       "</table>\n",
       "</div>"
      ],
      "text/plain": [
       "   areasAmountPer100k  sportsAmountPer100k  areasSquarePer100k  \\\n",
       "0                47.0                  8.0        9.424447e+04   \n",
       "1               367.0                409.0        9.516157e+05   \n",
       "2               363.0                371.0        1.085274e+05   \n",
       "3                71.0                 17.0        1.316948e+05   \n",
       "4               455.0                354.0        1.167945e+06   \n",
       "\n",
       "   subwayDistance  pollutedPointsPercentage  result  \n",
       "0     7455.318933                  0.349918     0.0  \n",
       "1      501.267974                  0.059712     1.0  \n",
       "2     5325.461064                  0.825411     0.0  \n",
       "3     4402.023516                  0.784045     0.0  \n",
       "4     1369.468241                  0.039521     1.0  "
      ]
     },
     "execution_count": 26,
     "metadata": {},
     "output_type": "execute_result"
    }
   ],
   "source": [
    "df = generate_polygons_dataset()\n",
    "df.head()"
   ]
  },
  {
   "cell_type": "code",
   "execution_count": 27,
   "metadata": {},
   "outputs": [],
   "source": [
    "df.to_csv('../assets/train.csv')"
   ]
  },
  {
   "cell_type": "code",
   "execution_count": null,
   "metadata": {},
   "outputs": [],
   "source": []
  }
 ],
 "metadata": {
  "interpreter": {
   "hash": "aee8b7b246df8f9039afb4144a1f6fd8d2ca17a180786b69acc140d282b71a49"
  },
  "kernelspec": {
   "display_name": "Python 3.9.5 64-bit",
   "name": "python3"
  },
  "language_info": {
   "codemirror_mode": {
    "name": "ipython",
    "version": 3
   },
   "file_extension": ".py",
   "mimetype": "text/x-python",
   "name": "python",
   "nbconvert_exporter": "python",
   "pygments_lexer": "ipython3",
   "version": "3.9.5"
  },
  "orig_nbformat": 2
 },
 "nbformat": 4,
 "nbformat_minor": 2
}
