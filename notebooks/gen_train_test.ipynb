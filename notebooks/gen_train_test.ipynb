{
 "metadata": {
  "language_info": {
   "codemirror_mode": {
    "name": "ipython",
    "version": 3
   },
   "file_extension": ".py",
   "mimetype": "text/x-python",
   "name": "python",
   "nbconvert_exporter": "python",
   "pygments_lexer": "ipython3",
   "version": "3.9.6-final"
  },
  "orig_nbformat": 2,
  "kernelspec": {
   "name": "python39664bitenvdc80ea6055e34e4499bab4f52222b64a",
   "display_name": "Python 3.9.6 64-bit ('env')"
  }
 },
 "nbformat": 4,
 "nbformat_minor": 2,
 "cells": [
  {
   "cell_type": "code",
   "execution_count": 85,
   "metadata": {},
   "outputs": [],
   "source": [
    "import pandas as pd\n",
    "import random"
   ]
  },
  {
   "cell_type": "code",
   "execution_count": 86,
   "metadata": {},
   "outputs": [],
   "source": [
    "COLUMNS = ['sportsObjectsAmountPer100k', 'sportsAmountPer100k', 'areasSquarePer100k', 'subwayDistance', 'pollutedPointsPercentage', 'result']\n",
    "OBJECTS_OK = 300\n",
    "AMOUNT_OK = 50\n",
    "SQUARE_OK = 400000\n",
    "SUBWAY_DIST_OK = 1500\n",
    "POLLUTION_OK = 0.1"
   ]
  },
  {
   "cell_type": "code",
   "execution_count": 87,
   "metadata": {},
   "outputs": [],
   "source": [
    "def generate_new_polygon_row(expected_class: int = 1) -> dict:\n",
    "    if expected_class == 1:\n",
    "        sports_objects_amount_per_100k = random.randrange(OBJECTS_OK, 500) # количество спортивных зон на 100к человек (единицы)\n",
    "        sports_amount_per_100k = random.randrange(AMOUNT_OK, 500) # количество различных видов спорта на 100к человек (единицы)\n",
    "        areas_square_per_100k = random.uniform(SQUARE_OK, 1500000.) # суммарная площадь спортивных зон на 100к человек (метры^2)\n",
    "        subway_distance = random.uniform(0, SUBWAY_DIST_OK) # средняя удаленность до метро в полигоне (метры)\n",
    "        polluted_points_percentage = random.uniform(0., POLLUTION_OK) # процентное соотношение \"грязных\" точек к суммарному их числу (проценты в виде десятичной дроби)\n",
    "        poly_dict = {\n",
    "            'sportsObjectsAmountPer100k': sports_objects_amount_per_100k,\n",
    "            'sportsAmountPer100k': sports_amount_per_100k,\n",
    "            'areasSquarePer100k': areas_square_per_100k,\n",
    "            'subwayDistance': subway_distance,\n",
    "            'pollutedPointsPercentage': polluted_points_percentage,\n",
    "            'result': 1\n",
    "        }   \n",
    "        return poly_dict\n",
    "        \n",
    "    else:\n",
    "        sports_objects_amount_per_100k = random.randrange(0, OBJECTS_OK) # количество спортивных зон на 100к человек (единицы)\n",
    "        sports_amount_per_100k = random.randrange(0, AMOUNT_OK) # количество различных видов спорта на 100к человек (единицы)\n",
    "        areas_square_per_100k = random.uniform(0., SQUARE_OK) # суммарная площадь спортивных зон на 100к человек (метры^2)\n",
    "        subway_distance = random.uniform(SUBWAY_DIST_OK, 8000) # средняя удаленность до метро в полигоне (метры)\n",
    "        polluted_points_percentage = random.uniform(POLLUTION_OK, 1) # процентное соотношение \"грязных\" точек к суммарному их числу (проценты в виде десятичной дроби)\n",
    "        poly_dict = {\n",
    "            'sportsObjectsAmountPer100k': sports_objects_amount_per_100k,\n",
    "            'sportsAmountPer100k': sports_amount_per_100k,\n",
    "            'areasSquarePer100k': areas_square_per_100k,\n",
    "            'subwayDistance': subway_distance,\n",
    "            'pollutedPointsPercentage': polluted_points_percentage,\n",
    "            'result': 0\n",
    "        }   \n",
    "        return poly_dict"
   ]
  },
  {
   "cell_type": "code",
   "execution_count": 88,
   "metadata": {},
   "outputs": [],
   "source": [
    "def generate_polygons_dataset(lines: int = 5000) -> pd.DataFrame:\n",
    "    df = pd.DataFrame(columns=COLUMNS)\n",
    "    for _ in range(int(lines/2)):\n",
    "        new_1_row = generate_new_polygon_row(1)\n",
    "        new_0_row = generate_new_polygon_row(0)\n",
    "        df = df.append(new_1_row, ignore_index=True)\n",
    "        df = df.append(new_0_row, ignore_index=True)\n",
    "    return df"
   ]
  },
  {
   "cell_type": "code",
   "execution_count": 89,
   "metadata": {},
   "outputs": [
    {
     "output_type": "execute_result",
     "data": {
      "text/plain": [
       "   sportsObjectsAmountPer100k  sportsAmountPer100k  areasSquarePer100k  \\\n",
       "0                       318.0                187.0        1.201111e+06   \n",
       "1                        84.0                  0.0        1.699444e+05   \n",
       "2                       400.0                238.0        4.766987e+05   \n",
       "3                       236.0                 44.0        4.707727e+04   \n",
       "4                       448.0                273.0        5.150813e+05   \n",
       "\n",
       "   subwayDistance  pollutedPointsPercentage  result  \n",
       "0      835.506329                  0.003066     1.0  \n",
       "1     2421.331583                  0.494011     0.0  \n",
       "2      876.049879                  0.087734     1.0  \n",
       "3     1763.032568                  0.800674     0.0  \n",
       "4     1366.490654                  0.091244     1.0  "
      ],
      "text/html": "<div>\n<style scoped>\n    .dataframe tbody tr th:only-of-type {\n        vertical-align: middle;\n    }\n\n    .dataframe tbody tr th {\n        vertical-align: top;\n    }\n\n    .dataframe thead th {\n        text-align: right;\n    }\n</style>\n<table border=\"1\" class=\"dataframe\">\n  <thead>\n    <tr style=\"text-align: right;\">\n      <th></th>\n      <th>sportsObjectsAmountPer100k</th>\n      <th>sportsAmountPer100k</th>\n      <th>areasSquarePer100k</th>\n      <th>subwayDistance</th>\n      <th>pollutedPointsPercentage</th>\n      <th>result</th>\n    </tr>\n  </thead>\n  <tbody>\n    <tr>\n      <th>0</th>\n      <td>318.0</td>\n      <td>187.0</td>\n      <td>1.201111e+06</td>\n      <td>835.506329</td>\n      <td>0.003066</td>\n      <td>1.0</td>\n    </tr>\n    <tr>\n      <th>1</th>\n      <td>84.0</td>\n      <td>0.0</td>\n      <td>1.699444e+05</td>\n      <td>2421.331583</td>\n      <td>0.494011</td>\n      <td>0.0</td>\n    </tr>\n    <tr>\n      <th>2</th>\n      <td>400.0</td>\n      <td>238.0</td>\n      <td>4.766987e+05</td>\n      <td>876.049879</td>\n      <td>0.087734</td>\n      <td>1.0</td>\n    </tr>\n    <tr>\n      <th>3</th>\n      <td>236.0</td>\n      <td>44.0</td>\n      <td>4.707727e+04</td>\n      <td>1763.032568</td>\n      <td>0.800674</td>\n      <td>0.0</td>\n    </tr>\n    <tr>\n      <th>4</th>\n      <td>448.0</td>\n      <td>273.0</td>\n      <td>5.150813e+05</td>\n      <td>1366.490654</td>\n      <td>0.091244</td>\n      <td>1.0</td>\n    </tr>\n  </tbody>\n</table>\n</div>"
     },
     "metadata": {},
     "execution_count": 89
    }
   ],
   "source": [
    "df = generate_polygons_dataset()\n",
    "df.head()"
   ]
  },
  {
   "cell_type": "code",
   "execution_count": 92,
   "metadata": {},
   "outputs": [
    {
     "output_type": "error",
     "ename": "TypeError",
     "evalue": "to_csv() got an unexpected keyword argument 'ignore_index'",
     "traceback": [
      "\u001b[0;31m---------------------------------------------------------------------------\u001b[0m",
      "\u001b[0;31mTypeError\u001b[0m                                 Traceback (most recent call last)",
      "\u001b[0;32m/tmp/ipykernel_10538/2494019305.py\u001b[0m in \u001b[0;36m<module>\u001b[0;34m\u001b[0m\n\u001b[0;32m----> 1\u001b[0;31m \u001b[0mdf\u001b[0m\u001b[0;34m.\u001b[0m\u001b[0mto_csv\u001b[0m\u001b[0;34m(\u001b[0m\u001b[0;34m'../assets/train.csv'\u001b[0m\u001b[0;34m,\u001b[0m \u001b[0mignore_index\u001b[0m\u001b[0;34m=\u001b[0m\u001b[0;32mTrue\u001b[0m\u001b[0;34m)\u001b[0m\u001b[0;34m\u001b[0m\u001b[0;34m\u001b[0m\u001b[0m\n\u001b[0m",
      "\u001b[0;31mTypeError\u001b[0m: to_csv() got an unexpected keyword argument 'ignore_index'"
     ]
    }
   ],
   "source": [
    "df.to_csv('../assets/train.csv', index_col=False)"
   ]
  },
  {
   "cell_type": "code",
   "execution_count": null,
   "metadata": {},
   "outputs": [],
   "source": []
  }
 ]
}