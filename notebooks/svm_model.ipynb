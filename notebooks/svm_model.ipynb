{
 "cells": [
  {
   "cell_type": "code",
   "execution_count": 107,
   "metadata": {},
   "outputs": [],
   "source": [
    "import pandas as pd\n",
    "import numpy as np\n",
    "import matplotlib.pyplot as plt\n",
    "from sklearn import svm\n",
    "from sklearn.model_selection import train_test_split\n",
    "from sklearn.preprocessing import StandardScaler, Normalizer"
   ]
  },
  {
   "cell_type": "code",
   "execution_count": 108,
   "metadata": {},
   "outputs": [],
   "source": [
    "def get_probabilty(model, row):\n",
    "    ''' Функция возвращает по найденному уравнению разделяющей плоскости вероятность объекта быть идеальным\n",
    "    x - это признаки данного объекта\n",
    "    b - вектор коэффициентов в уравнении плоскости '''\n",
    "    des = model.decision_function([row])\n",
    "    return 1 / (1 + np.exp(-des[0]))"
   ]
  },
  {
   "cell_type": "markdown",
   "metadata": {},
   "source": [
    "Делим исходные данные на признаки и ответы, а также разделяем на данные, на которых обучаем и на которых тестируем"
   ]
  },
  {
   "cell_type": "code",
   "execution_count": 109,
   "metadata": {},
   "outputs": [],
   "source": [
    "df = pd.read_csv('../assets/train.csv')\n",
    "\n",
    "df.loc[df['result'] == 0.0, 'result'] = -1.0\n",
    "\n",
    "X = df.loc[:, :'pollutedPointsPercentage']\n",
    "y = df.loc[:, 'result']\n",
    "\n",
    "x_train, x_test, y_train, y_test = train_test_split(X, y, test_size=0.33, random_state=1)\n",
    "copy_of_x_test = x_test.copy()"
   ]
  },
  {
   "cell_type": "markdown",
   "metadata": {},
   "source": [
    "Стандартизация данных"
   ]
  },
  {
   "cell_type": "code",
   "execution_count": 110,
   "metadata": {},
   "outputs": [
    {
     "name": "stdout",
     "output_type": "stream",
     "text": [
      "[[ 0.48464326  1.43040215  0.17287295 -1.03557979 -1.01151904]\n",
      " [-1.04384142 -0.99438479 -0.707756    0.37169514  0.98102328]\n",
      " [ 1.2454585   1.9128533   0.79960918 -1.14540908 -0.84673438]\n",
      " ...\n",
      " [-1.78409409 -1.08836878 -1.21204143  0.06010762  1.36826064]\n",
      " [-0.94788274 -0.93799439 -0.92338706  1.91147202  0.54116824]\n",
      " [-1.73611475 -0.9317288  -1.06437358  1.70208293  1.26976935]]\n"
     ]
    }
   ],
   "source": [
    "scaler = StandardScaler()\n",
    "\n",
    "x_train = scaler.fit_transform(x_train)\n",
    "x_test = scaler.fit_transform(x_test)\n",
    "print(x_test)"
   ]
  },
  {
   "cell_type": "markdown",
   "metadata": {},
   "source": [
    "Объявление и обучение модели"
   ]
  },
  {
   "cell_type": "code",
   "execution_count": 111,
   "metadata": {},
   "outputs": [
    {
     "data": {
      "text/plain": [
       "SVC(kernel='linear', probability=True)"
      ]
     },
     "execution_count": 111,
     "metadata": {},
     "output_type": "execute_result"
    }
   ],
   "source": [
    "model = svm.SVC(kernel='linear', C = 1.0, probability=True)\n",
    "model.fit(x_train, y_train)"
   ]
  },
  {
   "cell_type": "markdown",
   "metadata": {},
   "source": [
    "Применение модели"
   ]
  },
  {
   "cell_type": "code",
   "execution_count": 112,
   "metadata": {},
   "outputs": [
    {
     "name": "stderr",
     "output_type": "stream",
     "text": [
      "/Library/Frameworks/Python.framework/Versions/3.9/lib/python3.9/site-packages/sklearn/base.py:441: UserWarning: X does not have valid feature names, but StandardScaler was fitted with feature names\n",
      "  warnings.warn(\n"
     ]
    }
   ],
   "source": [
    "probabilities = np.array([])\n",
    "x_test = scaler.transform(np.array([[55.77658176583015, 111.5531635316603, 129439.50481135711, 500, 0.05]]))\n",
    "# x_test = np.array(x_test)\n",
    "\n",
    "for x in x_test:\n",
    "   prob = get_probabilty(model, list(x)) * 100\n",
    "   probabilities = np.append(probabilities, prob)"
   ]
  },
  {
   "cell_type": "code",
   "execution_count": 113,
   "metadata": {},
   "outputs": [],
   "source": [
    "np.savetxt(\"../assets/final_result.csv\", probabilities, delimiter=\",\", fmt='%10.5f')\n",
    "# \"areasAmountPer100k\":106.48354666492484\n",
    "# sportsObjectsAmountPer100k\":122.2588\n",
    "# areasSquarePer100k\":567272.50481135711\n",
    "# dist: 500\n",
    "# 0.05\n"
   ]
  },
  {
   "cell_type": "markdown",
   "metadata": {},
   "source": [
    "Экспортирование модели в папку `/models`"
   ]
  },
  {
   "cell_type": "code",
   "execution_count": 114,
   "metadata": {},
   "outputs": [
    {
     "data": {
      "text/plain": [
       "['../models/model.pkl']"
      ]
     },
     "execution_count": 114,
     "metadata": {},
     "output_type": "execute_result"
    }
   ],
   "source": [
    "import joblib\n",
    "joblib.dump(scaler, '../models/scaler.pkl')\n",
    "joblib.dump(model, '../models/model.pkl')"
   ]
  }
 ],
 "metadata": {
  "interpreter": {
   "hash": "aee8b7b246df8f9039afb4144a1f6fd8d2ca17a180786b69acc140d282b71a49"
  },
  "kernelspec": {
   "display_name": "Python 3.9.7 64-bit",
   "name": "python3"
  },
  "language_info": {
   "codemirror_mode": {
    "name": "ipython",
    "version": 3
   },
   "file_extension": ".py",
   "mimetype": "text/x-python",
   "name": "python",
   "nbconvert_exporter": "python",
   "pygments_lexer": "ipython3",
   "version": "3.9.7"
  },
  "orig_nbformat": 4
 },
 "nbformat": 4,
 "nbformat_minor": 2
}
