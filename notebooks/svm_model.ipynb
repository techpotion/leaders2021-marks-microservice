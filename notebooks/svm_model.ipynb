{
 "cells": [
  {
   "cell_type": "markdown",
   "metadata": {},
   "source": [
    "Imports:"
   ]
  },
  {
   "cell_type": "code",
   "execution_count": 13,
   "metadata": {},
   "outputs": [],
   "source": [
    "import pandas as pd\n",
    "import numpy as np\n",
    "import matplotlib.pyplot as plt\n",
    "from sklearn import svm\n",
    "from sklearn.model_selection import train_test_split\n",
    "from sklearn.preprocessing import StandardScaler, Normalizer"
   ]
  },
  {
   "cell_type": "code",
   "execution_count": 14,
   "metadata": {},
   "outputs": [],
   "source": [
    "def distance_into_probability(x, w, b):\n",
    "    ''' Функция возвращает по найденному уравнению разделяющей плоскости вероятность объекта быть идеальным\n",
    "    x - это признаки данного объекта\n",
    "    b - вектор коэффициентов в уравнении плоскости '''\n",
    "    lin_comb = b\n",
    "    for i in range(len(x)):\n",
    "        lin_comb += x[i] * w[i]\n",
    "    return 1 / (1 + np.exp(-lin_comb))"
   ]
  },
  {
   "cell_type": "markdown",
   "metadata": {},
   "source": [
    "Делим исходные данные на признаки и ответы, а также разделяем на данные, на которых обучаем и на которых тестируем"
   ]
  },
  {
   "cell_type": "code",
   "execution_count": 15,
   "metadata": {},
   "outputs": [],
   "source": [
    "df = pd.read_csv('../assets/train.csv')\n",
    "\n",
    "heads = df.keys()[:-1]\n",
    "\n",
    "X = df[heads]\n",
    "y = df['result']\n",
    "\n",
    "x_train, x_test, y_train, y_test = train_test_split(X, y, test_size=0.33)"
   ]
  },
  {
   "cell_type": "code",
   "execution_count": 16,
   "metadata": {},
   "outputs": [],
   "source": [
    "scaler = StandardScaler().fit(x_train) \n",
    "standardized_X = scaler.transform(x_train)\n",
    "\n",
    "x_train = standardized_X"
   ]
  },
  {
   "cell_type": "code",
   "execution_count": 17,
   "metadata": {},
   "outputs": [],
   "source": [
    "scaler = StandardScaler().fit(x_test) \n",
    "standardized_X = scaler.transform(x_test)\n",
    "\n",
    "x_test = standardized_X"
   ]
  },
  {
   "cell_type": "code",
   "execution_count": 18,
   "metadata": {},
   "outputs": [
    {
     "name": "stdout",
     "output_type": "stream",
     "text": [
      "[ 0.80638135  0.79093928  0.95710857 -1.28477844 -0.86257068]\n",
      "[-0.23120921]\n"
     ]
    }
   ],
   "source": [
    "model = svm.SVC(kernel='linear', C = 1.0, probability=True)\n",
    "\n",
    "model.fit(x_train, y_train)\n",
    "w_coeffs = list(model.coef_)[0]\n",
    "b = model.intercept_\n",
    "\n",
    "print(w_coeffs)\n",
    "\n",
    "print(model.intercept_)\n"
   ]
  },
  {
   "cell_type": "code",
   "execution_count": 19,
   "metadata": {},
   "outputs": [],
   "source": [
    "line = list(x_test[10])"
   ]
  },
  {
   "cell_type": "code",
   "execution_count": 20,
   "metadata": {},
   "outputs": [
    {
     "data": {
      "text/plain": [
       "([-1.6997490121370986,\n",
       "  -0.867187718978134,\n",
       "  -0.6106412918684773,\n",
       "  -0.0944998287144107,\n",
       "  1.0508421319210817],\n",
       " array([ 0.80638135,  0.79093928,  0.95710857, -1.28477844, -0.86257068]),\n",
       " -0.23120920751315904)"
      ]
     },
     "execution_count": 20,
     "metadata": {},
     "output_type": "execute_result"
    }
   ],
   "source": [
    "line, w_coeffs, b[0]"
   ]
  },
  {
   "cell_type": "code",
   "execution_count": 21,
   "metadata": {},
   "outputs": [
    {
     "data": {
      "text/plain": [
       "2.5155234669017235"
      ]
     },
     "execution_count": 21,
     "metadata": {},
     "output_type": "execute_result"
    }
   ],
   "source": [
    "distance_into_probability(line, w_coeffs, b[0]) * 100"
   ]
  },
  {
   "cell_type": "code",
   "execution_count": 22,
   "metadata": {},
   "outputs": [
    {
     "data": {
      "text/plain": [
       "0.025155234669017257"
      ]
     },
     "execution_count": 22,
     "metadata": {},
     "output_type": "execute_result"
    }
   ],
   "source": [
    "des = model.decision_function([x_test[10]])\n",
    "1 / (1 + np.exp(-des[0]))"
   ]
  },
  {
   "cell_type": "markdown",
   "metadata": {},
   "source": [
    "Экспортирование модели в папку `/models`"
   ]
  },
  {
   "cell_type": "code",
   "execution_count": 23,
   "metadata": {},
   "outputs": [
    {
     "data": {
      "text/plain": [
       "['../models/svc.pkl']"
      ]
     },
     "execution_count": 23,
     "metadata": {},
     "output_type": "execute_result"
    }
   ],
   "source": [
    "import joblib\n",
    "joblib.dump(model, '../models/svc.pkl')"
   ]
  }
 ],
 "metadata": {
  "interpreter": {
   "hash": "c989ca353b2b46b9b0e3ad651acd70f878a3f5d58ef1a327c34cd4c755ed4c85"
  },
  "kernelspec": {
   "display_name": "Python 3.7.5 64-bit",
   "name": "python3"
  },
  "language_info": {
   "codemirror_mode": {
    "name": "ipython",
    "version": 3
   },
   "file_extension": ".py",
   "mimetype": "text/x-python",
   "name": "python",
   "nbconvert_exporter": "python",
   "pygments_lexer": "ipython3",
   "version": "3.7.5"
  },
  "orig_nbformat": 4
 },
 "nbformat": 4,
 "nbformat_minor": 2
}
