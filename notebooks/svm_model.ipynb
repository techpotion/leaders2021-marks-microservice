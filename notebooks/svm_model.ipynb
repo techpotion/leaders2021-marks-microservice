{
 "cells": [
  {
   "cell_type": "code",
   "execution_count": 90,
   "metadata": {},
   "outputs": [],
   "source": [
    "import pandas as pd\n",
    "import numpy as np\n",
    "from sklearn import svm\n",
    "from sklearn.model_selection import train_test_split\n",
    "from sklearn.preprocessing import StandardScaler, Normalizer"
   ]
  },
  {
   "cell_type": "code",
   "execution_count": 91,
   "metadata": {},
   "outputs": [],
   "source": [
    "def get_probabilty(model, row):\n",
    "    ''' Функция возвращает по найденному уравнению разделяющей плоскости вероятность объекта быть идеальным\n",
    "    x - это признаки данного объекта\n",
    "    b - вектор коэффициентов в уравнении плоскости '''\n",
    "    des = model.decision_function([row])\n",
    "    return 1 / (1 + np.exp(-des[0]))"
   ]
  },
  {
   "cell_type": "markdown",
   "metadata": {},
   "source": [
    "Делим исходные данные на признаки и ответы, а также разделяем на данные, на которых обучаем и на которых тестируем"
   ]
  },
  {
   "cell_type": "code",
   "execution_count": 92,
   "metadata": {},
   "outputs": [
    {
     "data": {
      "text/html": [
       "<div>\n",
       "<style scoped>\n",
       "    .dataframe tbody tr th:only-of-type {\n",
       "        vertical-align: middle;\n",
       "    }\n",
       "\n",
       "    .dataframe tbody tr th {\n",
       "        vertical-align: top;\n",
       "    }\n",
       "\n",
       "    .dataframe thead th {\n",
       "        text-align: right;\n",
       "    }\n",
       "</style>\n",
       "<table border=\"1\" class=\"dataframe\">\n",
       "  <thead>\n",
       "    <tr style=\"text-align: right;\">\n",
       "      <th></th>\n",
       "      <th>areasAmountPer100k</th>\n",
       "      <th>sportsAmountPer100k</th>\n",
       "      <th>areasSquarePer100k</th>\n",
       "      <th>subwayDistance</th>\n",
       "      <th>pollutedPointsPercentage</th>\n",
       "      <th>result</th>\n",
       "    </tr>\n",
       "  </thead>\n",
       "  <tbody>\n",
       "    <tr>\n",
       "      <th>0</th>\n",
       "      <td>15.0</td>\n",
       "      <td>20.0</td>\n",
       "      <td>1.868616e+05</td>\n",
       "      <td>7353.397854</td>\n",
       "      <td>0.948230</td>\n",
       "      <td>-1.0</td>\n",
       "    </tr>\n",
       "    <tr>\n",
       "      <th>1</th>\n",
       "      <td>331.0</td>\n",
       "      <td>317.0</td>\n",
       "      <td>1.367124e+06</td>\n",
       "      <td>3165.050693</td>\n",
       "      <td>0.024175</td>\n",
       "      <td>1.0</td>\n",
       "    </tr>\n",
       "    <tr>\n",
       "      <th>2</th>\n",
       "      <td>300.0</td>\n",
       "      <td>77.0</td>\n",
       "      <td>3.322908e+05</td>\n",
       "      <td>6801.641570</td>\n",
       "      <td>0.173018</td>\n",
       "      <td>-1.0</td>\n",
       "    </tr>\n",
       "    <tr>\n",
       "      <th>3</th>\n",
       "      <td>127.0</td>\n",
       "      <td>42.0</td>\n",
       "      <td>6.703259e+04</td>\n",
       "      <td>8076.082570</td>\n",
       "      <td>0.891446</td>\n",
       "      <td>-1.0</td>\n",
       "    </tr>\n",
       "    <tr>\n",
       "      <th>4</th>\n",
       "      <td>405.0</td>\n",
       "      <td>148.0</td>\n",
       "      <td>1.026126e+06</td>\n",
       "      <td>3440.022194</td>\n",
       "      <td>0.275477</td>\n",
       "      <td>1.0</td>\n",
       "    </tr>\n",
       "    <tr>\n",
       "      <th>...</th>\n",
       "      <td>...</td>\n",
       "      <td>...</td>\n",
       "      <td>...</td>\n",
       "      <td>...</td>\n",
       "      <td>...</td>\n",
       "      <td>...</td>\n",
       "    </tr>\n",
       "    <tr>\n",
       "      <th>11995</th>\n",
       "      <td>261.0</td>\n",
       "      <td>450.0</td>\n",
       "      <td>1.181398e+06</td>\n",
       "      <td>501.172268</td>\n",
       "      <td>0.553239</td>\n",
       "      <td>1.0</td>\n",
       "    </tr>\n",
       "    <tr>\n",
       "      <th>11996</th>\n",
       "      <td>279.0</td>\n",
       "      <td>54.0</td>\n",
       "      <td>1.182710e+06</td>\n",
       "      <td>6757.492280</td>\n",
       "      <td>0.702291</td>\n",
       "      <td>-1.0</td>\n",
       "    </tr>\n",
       "    <tr>\n",
       "      <th>11997</th>\n",
       "      <td>19.0</td>\n",
       "      <td>48.0</td>\n",
       "      <td>2.609569e+05</td>\n",
       "      <td>7960.901843</td>\n",
       "      <td>0.990480</td>\n",
       "      <td>-1.0</td>\n",
       "    </tr>\n",
       "    <tr>\n",
       "      <th>11998</th>\n",
       "      <td>342.0</td>\n",
       "      <td>160.0</td>\n",
       "      <td>1.253940e+06</td>\n",
       "      <td>274.843711</td>\n",
       "      <td>0.465364</td>\n",
       "      <td>1.0</td>\n",
       "    </tr>\n",
       "    <tr>\n",
       "      <th>11999</th>\n",
       "      <td>66.0</td>\n",
       "      <td>425.0</td>\n",
       "      <td>5.463943e+05</td>\n",
       "      <td>6356.649091</td>\n",
       "      <td>0.333327</td>\n",
       "      <td>-1.0</td>\n",
       "    </tr>\n",
       "  </tbody>\n",
       "</table>\n",
       "<p>12000 rows × 6 columns</p>\n",
       "</div>"
      ],
      "text/plain": [
       "       areasAmountPer100k  sportsAmountPer100k  areasSquarePer100k  \\\n",
       "0                    15.0                 20.0        1.868616e+05   \n",
       "1                   331.0                317.0        1.367124e+06   \n",
       "2                   300.0                 77.0        3.322908e+05   \n",
       "3                   127.0                 42.0        6.703259e+04   \n",
       "4                   405.0                148.0        1.026126e+06   \n",
       "...                   ...                  ...                 ...   \n",
       "11995               261.0                450.0        1.181398e+06   \n",
       "11996               279.0                 54.0        1.182710e+06   \n",
       "11997                19.0                 48.0        2.609569e+05   \n",
       "11998               342.0                160.0        1.253940e+06   \n",
       "11999                66.0                425.0        5.463943e+05   \n",
       "\n",
       "       subwayDistance  pollutedPointsPercentage  result  \n",
       "0         7353.397854                  0.948230    -1.0  \n",
       "1         3165.050693                  0.024175     1.0  \n",
       "2         6801.641570                  0.173018    -1.0  \n",
       "3         8076.082570                  0.891446    -1.0  \n",
       "4         3440.022194                  0.275477     1.0  \n",
       "...               ...                       ...     ...  \n",
       "11995      501.172268                  0.553239     1.0  \n",
       "11996     6757.492280                  0.702291    -1.0  \n",
       "11997     7960.901843                  0.990480    -1.0  \n",
       "11998      274.843711                  0.465364     1.0  \n",
       "11999     6356.649091                  0.333327    -1.0  \n",
       "\n",
       "[12000 rows x 6 columns]"
      ]
     },
     "execution_count": 92,
     "metadata": {},
     "output_type": "execute_result"
    }
   ],
   "source": [
    "df = pd.read_csv('../assets/train.csv')\n",
    "df.loc[df['result'] == 0.0, 'result'] = -1.0\n",
    "\n",
    "X = df.loc[:, :'pollutedPointsPercentage']\n",
    "y = df.loc[:, 'result']\n",
    "\n",
    "x_train, x_test, y_train, y_test = train_test_split(X, y, test_size=0.33, random_state=1)\n",
    "copy_of_x_test = x_test.copy()\n",
    "df"
   ]
  },
  {
   "cell_type": "markdown",
   "metadata": {},
   "source": [
    "Стандартизация данных"
   ]
  },
  {
   "cell_type": "code",
   "execution_count": 93,
   "metadata": {},
   "outputs": [
    {
     "name": "stdout",
     "output_type": "stream",
     "text": [
      "[[-0.8972286  -0.14051444 -0.89518477 -1.4527039  -1.7624411 ]]\n"
     ]
    },
    {
     "name": "stderr",
     "output_type": "stream",
     "text": [
      "/Users/minish144/leaders2021/leaders2021-data-science/env/lib/python3.9/site-packages/sklearn/base.py:445: UserWarning: X does not have valid feature names, but StandardScaler was fitted with feature names\n",
      "  warnings.warn(\n"
     ]
    }
   ],
   "source": [
    "scaler = StandardScaler()\n",
    "\n",
    "x_train = scaler.fit_transform(x_train)\n",
    "x_test = scaler.transform([[101, 158.7, 228583, 700, 0.05]])\n",
    "print(x_test)"
   ]
  },
  {
   "cell_type": "markdown",
   "metadata": {},
   "source": [
    "Объявление и обучение модели"
   ]
  },
  {
   "cell_type": "code",
   "execution_count": 94,
   "metadata": {},
   "outputs": [
    {
     "data": {
      "text/plain": [
       "SVC(kernel='linear', probability=True)"
      ]
     },
     "execution_count": 94,
     "metadata": {},
     "output_type": "execute_result"
    }
   ],
   "source": [
    "model = svm.SVC(kernel='linear', C = 1.0, probability=True)\n",
    "model.fit(x_train, y_train)"
   ]
  },
  {
   "cell_type": "markdown",
   "metadata": {},
   "source": [
    "Применение модели"
   ]
  },
  {
   "cell_type": "code",
   "execution_count": 95,
   "metadata": {},
   "outputs": [
    {
     "name": "stderr",
     "output_type": "stream",
     "text": [
      "/Users/minish144/leaders2021/leaders2021-data-science/env/lib/python3.9/site-packages/sklearn/base.py:445: UserWarning: X does not have valid feature names, but StandardScaler was fitted with feature names\n",
      "  warnings.warn(\n"
     ]
    }
   ],
   "source": [
    "probabilities = np.array([])\n",
    "x_test = scaler.transform(np.array([[55.77658176583015, 111.5531635316603, 129439.50481135711, 500, 0.05]]))\n",
    "# x_test = np.array(x_test)\n",
    "\n",
    "for x in x_test:\n",
    "   prob = get_probabilty(model, list(x)) * 100\n",
    "   probabilities = np.append(probabilities, prob)"
   ]
  },
  {
   "cell_type": "code",
   "execution_count": 96,
   "metadata": {},
   "outputs": [],
   "source": [
    "np.savetxt(\"../assets/final_result.csv\", probabilities, delimiter=\",\", fmt='%10.5f')\n",
    "# \"areasAmountPer100k\":106.48354666492484\n",
    "# sportsObjectsAmountPer100k\":122.2588\n",
    "# areasSquarePer100k\":567272.50481135711\n",
    "# dist: 500\n",
    "# 0.05\n"
   ]
  },
  {
   "cell_type": "markdown",
   "metadata": {},
   "source": [
    "Экспортирование модели в папку `/models`"
   ]
  },
  {
   "cell_type": "code",
   "execution_count": 97,
   "metadata": {},
   "outputs": [
    {
     "data": {
      "text/plain": [
       "['../models/model.pkl']"
      ]
     },
     "execution_count": 97,
     "metadata": {},
     "output_type": "execute_result"
    }
   ],
   "source": [
    "import joblib\n",
    "joblib.dump(scaler, '../models/scaler.pkl')\n",
    "joblib.dump(model, '../models/model.pkl')"
   ]
  }
 ],
 "metadata": {
  "interpreter": {
   "hash": "8fa1c3459d780c78ff8244dc52cd073f61e2d4cfd57a49a2be3e93da31481b67"
  },
  "kernelspec": {
   "display_name": "Python 3.9.5 64-bit ('env': venv)",
   "name": "python3"
  },
  "language_info": {
   "codemirror_mode": {
    "name": "ipython",
    "version": 3
   },
   "file_extension": ".py",
   "mimetype": "text/x-python",
   "name": "python",
   "nbconvert_exporter": "python",
   "pygments_lexer": "ipython3",
   "version": "3.9.5"
  },
  "orig_nbformat": 4
 },
 "nbformat": 4,
 "nbformat_minor": 2
}
