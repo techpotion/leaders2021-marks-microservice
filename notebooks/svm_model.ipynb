{
 "cells": [
  {
   "cell_type": "code",
   "execution_count": 17,
   "metadata": {},
   "outputs": [],
   "source": [
    "import pandas as pd\n",
    "import numpy as np\n",
    "from sklearn import svm\n",
    "from sklearn.model_selection import train_test_split\n",
    "from sklearn.preprocessing import StandardScaler, Normalizer"
   ]
  },
  {
   "cell_type": "code",
   "execution_count": 18,
   "metadata": {},
   "outputs": [],
   "source": [
    "def get_probabilty(model, row):\n",
    "    ''' Функция возвращает по найденному уравнению разделяющей плоскости вероятность объекта быть идеальным\n",
    "    x - это признаки данного объекта\n",
    "    b - вектор коэффициентов в уравнении плоскости '''\n",
    "    des = model.decision_function([row])\n",
    "    return 1 / (1 + np.exp(-des[0]))"
   ]
  },
  {
   "cell_type": "markdown",
   "metadata": {},
   "source": [
    "Делим исходные данные на признаки и ответы, а также разделяем на данные, на которых обучаем и на которых тестируем"
   ]
  },
  {
   "cell_type": "code",
   "execution_count": 19,
   "metadata": {},
   "outputs": [
    {
     "data": {
      "text/html": [
       "<div>\n",
       "<style scoped>\n",
       "    .dataframe tbody tr th:only-of-type {\n",
       "        vertical-align: middle;\n",
       "    }\n",
       "\n",
       "    .dataframe tbody tr th {\n",
       "        vertical-align: top;\n",
       "    }\n",
       "\n",
       "    .dataframe thead th {\n",
       "        text-align: right;\n",
       "    }\n",
       "</style>\n",
       "<table border=\"1\" class=\"dataframe\">\n",
       "  <thead>\n",
       "    <tr style=\"text-align: right;\">\n",
       "      <th></th>\n",
       "      <th>areasAmountPer100k</th>\n",
       "      <th>sportsAmountPer100k</th>\n",
       "      <th>areasSquarePer100k</th>\n",
       "      <th>subwayDistance</th>\n",
       "      <th>pollutedPointsPercentage</th>\n",
       "      <th>result</th>\n",
       "    </tr>\n",
       "  </thead>\n",
       "  <tbody>\n",
       "    <tr>\n",
       "      <th>0</th>\n",
       "      <td>82.0</td>\n",
       "      <td>1.0</td>\n",
       "      <td>3.662551e+04</td>\n",
       "      <td>6748.109629</td>\n",
       "      <td>0.625161</td>\n",
       "      <td>-1.0</td>\n",
       "    </tr>\n",
       "    <tr>\n",
       "      <th>1</th>\n",
       "      <td>365.0</td>\n",
       "      <td>153.0</td>\n",
       "      <td>1.299719e+06</td>\n",
       "      <td>653.996848</td>\n",
       "      <td>0.328213</td>\n",
       "      <td>1.0</td>\n",
       "    </tr>\n",
       "    <tr>\n",
       "      <th>2</th>\n",
       "      <td>55.0</td>\n",
       "      <td>141.0</td>\n",
       "      <td>4.593430e+05</td>\n",
       "      <td>7392.874779</td>\n",
       "      <td>0.052311</td>\n",
       "      <td>-1.0</td>\n",
       "    </tr>\n",
       "    <tr>\n",
       "      <th>3</th>\n",
       "      <td>68.0</td>\n",
       "      <td>14.0</td>\n",
       "      <td>1.722896e+05</td>\n",
       "      <td>9807.668684</td>\n",
       "      <td>0.986872</td>\n",
       "      <td>-1.0</td>\n",
       "    </tr>\n",
       "    <tr>\n",
       "      <th>4</th>\n",
       "      <td>284.0</td>\n",
       "      <td>166.0</td>\n",
       "      <td>6.724441e+05</td>\n",
       "      <td>2070.658623</td>\n",
       "      <td>0.483438</td>\n",
       "      <td>1.0</td>\n",
       "    </tr>\n",
       "    <tr>\n",
       "      <th>...</th>\n",
       "      <td>...</td>\n",
       "      <td>...</td>\n",
       "      <td>...</td>\n",
       "      <td>...</td>\n",
       "      <td>...</td>\n",
       "      <td>...</td>\n",
       "    </tr>\n",
       "    <tr>\n",
       "      <th>11995</th>\n",
       "      <td>578.0</td>\n",
       "      <td>373.0</td>\n",
       "      <td>1.213305e+06</td>\n",
       "      <td>996.556086</td>\n",
       "      <td>0.518384</td>\n",
       "      <td>1.0</td>\n",
       "    </tr>\n",
       "    <tr>\n",
       "      <th>11996</th>\n",
       "      <td>132.0</td>\n",
       "      <td>272.0</td>\n",
       "      <td>1.212068e+06</td>\n",
       "      <td>348.477926</td>\n",
       "      <td>0.422045</td>\n",
       "      <td>-1.0</td>\n",
       "    </tr>\n",
       "    <tr>\n",
       "      <th>11997</th>\n",
       "      <td>74.0</td>\n",
       "      <td>39.0</td>\n",
       "      <td>2.098838e+05</td>\n",
       "      <td>5673.405192</td>\n",
       "      <td>0.941627</td>\n",
       "      <td>-1.0</td>\n",
       "    </tr>\n",
       "    <tr>\n",
       "      <th>11998</th>\n",
       "      <td>346.0</td>\n",
       "      <td>330.0</td>\n",
       "      <td>1.341419e+06</td>\n",
       "      <td>708.361666</td>\n",
       "      <td>0.382756</td>\n",
       "      <td>1.0</td>\n",
       "    </tr>\n",
       "    <tr>\n",
       "      <th>11999</th>\n",
       "      <td>85.0</td>\n",
       "      <td>225.0</td>\n",
       "      <td>1.317694e+06</td>\n",
       "      <td>559.145344</td>\n",
       "      <td>0.252195</td>\n",
       "      <td>-1.0</td>\n",
       "    </tr>\n",
       "  </tbody>\n",
       "</table>\n",
       "<p>12000 rows × 6 columns</p>\n",
       "</div>"
      ],
      "text/plain": [
       "       areasAmountPer100k  sportsAmountPer100k  areasSquarePer100k  \\\n",
       "0                    82.0                  1.0        3.662551e+04   \n",
       "1                   365.0                153.0        1.299719e+06   \n",
       "2                    55.0                141.0        4.593430e+05   \n",
       "3                    68.0                 14.0        1.722896e+05   \n",
       "4                   284.0                166.0        6.724441e+05   \n",
       "...                   ...                  ...                 ...   \n",
       "11995               578.0                373.0        1.213305e+06   \n",
       "11996               132.0                272.0        1.212068e+06   \n",
       "11997                74.0                 39.0        2.098838e+05   \n",
       "11998               346.0                330.0        1.341419e+06   \n",
       "11999                85.0                225.0        1.317694e+06   \n",
       "\n",
       "       subwayDistance  pollutedPointsPercentage  result  \n",
       "0         6748.109629                  0.625161    -1.0  \n",
       "1          653.996848                  0.328213     1.0  \n",
       "2         7392.874779                  0.052311    -1.0  \n",
       "3         9807.668684                  0.986872    -1.0  \n",
       "4         2070.658623                  0.483438     1.0  \n",
       "...               ...                       ...     ...  \n",
       "11995      996.556086                  0.518384     1.0  \n",
       "11996      348.477926                  0.422045    -1.0  \n",
       "11997     5673.405192                  0.941627    -1.0  \n",
       "11998      708.361666                  0.382756     1.0  \n",
       "11999      559.145344                  0.252195    -1.0  \n",
       "\n",
       "[12000 rows x 6 columns]"
      ]
     },
     "execution_count": 19,
     "metadata": {},
     "output_type": "execute_result"
    }
   ],
   "source": [
    "df = pd.read_csv('../assets/train.csv')\n",
    "df.loc[df['result'] == 0.0, 'result'] = -1.0\n",
    "\n",
    "X = df.loc[:, :'pollutedPointsPercentage']\n",
    "y = df.loc[:, 'result']\n",
    "\n",
    "x_train, x_test, y_train, y_test = train_test_split(X, y, test_size=0.33, random_state=1)\n",
    "copy_of_x_test = x_test.copy()\n",
    "df"
   ]
  },
  {
   "cell_type": "markdown",
   "metadata": {},
   "source": [
    "Стандартизация данных"
   ]
  },
  {
   "cell_type": "code",
   "execution_count": 20,
   "metadata": {},
   "outputs": [
    {
     "name": "stdout",
     "output_type": "stream",
     "text": [
      "[[-0.7755039  -0.14441707 -0.78541934 -1.46278748 -1.65749664]]\n"
     ]
    },
    {
     "name": "stderr",
     "output_type": "stream",
     "text": [
      "/Users/minish144/leaders2021/leaders2021-data-science/env/lib/python3.9/site-packages/sklearn/base.py:445: UserWarning: X does not have valid feature names, but StandardScaler was fitted with feature names\n",
      "  warnings.warn(\n"
     ]
    }
   ],
   "source": [
    "scaler = StandardScaler()\n",
    "\n",
    "x_train = scaler.fit_transform(x_train)\n",
    "x_test = scaler.transform([[101, 158.7, 228583, 700, 0.05]])\n",
    "print(x_test)"
   ]
  },
  {
   "cell_type": "markdown",
   "metadata": {},
   "source": [
    "Объявление и обучение модели"
   ]
  },
  {
   "cell_type": "code",
   "execution_count": 21,
   "metadata": {},
   "outputs": [
    {
     "data": {
      "text/plain": [
       "SVC(kernel='linear', probability=True)"
      ]
     },
     "execution_count": 21,
     "metadata": {},
     "output_type": "execute_result"
    }
   ],
   "source": [
    "model = svm.SVC(kernel='linear', C = 1.0, probability=True)\n",
    "model.fit(x_train, y_train)"
   ]
  },
  {
   "cell_type": "markdown",
   "metadata": {},
   "source": [
    "Применение модели"
   ]
  },
  {
   "cell_type": "code",
   "execution_count": 22,
   "metadata": {},
   "outputs": [
    {
     "name": "stderr",
     "output_type": "stream",
     "text": [
      "/Users/minish144/leaders2021/leaders2021-data-science/env/lib/python3.9/site-packages/sklearn/base.py:445: UserWarning: X does not have valid feature names, but StandardScaler was fitted with feature names\n",
      "  warnings.warn(\n"
     ]
    }
   ],
   "source": [
    "probabilities = np.array([])\n",
    "x_test = scaler.transform(np.array([[55.77658176583015, 111.5531635316603, 129439.50481135711, 500, 0.05]]))\n",
    "# x_test = np.array(x_test)\n",
    "\n",
    "for x in x_test:\n",
    "   prob = get_probabilty(model, list(x)) * 100\n",
    "   probabilities = np.append(probabilities, prob)"
   ]
  },
  {
   "cell_type": "code",
   "execution_count": 23,
   "metadata": {},
   "outputs": [],
   "source": [
    "np.savetxt(\"../assets/final_result.csv\", probabilities, delimiter=\",\", fmt='%10.5f')\n",
    "# \"areasAmountPer100k\":106.48354666492484\n",
    "# sportsObjectsAmountPer100k\":122.2588\n",
    "# areasSquarePer100k\":567272.50481135711\n",
    "# dist: 500\n",
    "# 0.05\n"
   ]
  },
  {
   "cell_type": "markdown",
   "metadata": {},
   "source": [
    "Экспортирование модели в папку `/models`"
   ]
  },
  {
   "cell_type": "code",
   "execution_count": 24,
   "metadata": {},
   "outputs": [
    {
     "data": {
      "text/plain": [
       "['../models/model.pkl']"
      ]
     },
     "execution_count": 24,
     "metadata": {},
     "output_type": "execute_result"
    }
   ],
   "source": [
    "import joblib\n",
    "joblib.dump(scaler, '../models/scaler.pkl')\n",
    "joblib.dump(model, '../models/model.pkl')"
   ]
  }
 ],
 "metadata": {
  "interpreter": {
   "hash": "8fa1c3459d780c78ff8244dc52cd073f61e2d4cfd57a49a2be3e93da31481b67"
  },
  "kernelspec": {
   "display_name": "Python 3.9.5 64-bit ('env': venv)",
   "name": "python3"
  },
  "language_info": {
   "codemirror_mode": {
    "name": "ipython",
    "version": 3
   },
   "file_extension": ".py",
   "mimetype": "text/x-python",
   "name": "python",
   "nbconvert_exporter": "python",
   "pygments_lexer": "ipython3",
   "version": "3.9.5"
  },
  "orig_nbformat": 4
 },
 "nbformat": 4,
 "nbformat_minor": 2
}
