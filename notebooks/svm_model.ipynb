{
 "cells": [
  {
   "cell_type": "markdown",
   "metadata": {},
   "source": [
    "Imports:"
   ]
  },
  {
   "cell_type": "code",
   "execution_count": 886,
   "metadata": {},
   "outputs": [],
   "source": [
    "import pandas as pd\n",
    "import numpy as np\n",
    "import matplotlib.pyplot as plt\n",
    "from sklearn import svm\n",
    "from sklearn.model_selection import train_test_split\n",
    "from sklearn.preprocessing import StandardScaler, Normalizer"
   ]
  },
  {
   "cell_type": "code",
   "execution_count": 887,
   "metadata": {},
   "outputs": [],
   "source": [
    "def distance_into_probability(x, w, b):\n",
    "    ''' Функция возвращает по найденному уравнению разделяющей плоскости вероятность объекта быть идеальным\n",
    "    x - это признаки данного объекта\n",
    "    b - вектор коэффициентов в уравнении плоскости '''\n",
    "    lin_comb = b\n",
    "    for i in range(len(x)):\n",
    "        lin_comb += x[i] * w[i]\n",
    "    return 1 / (1 + np.exp(-lin_comb))"
   ]
  },
  {
   "cell_type": "markdown",
   "metadata": {},
   "source": [
    "Делим исходные данные на признаки и ответы, а также разделяем на данные, на которых обучаем и на которых тестируем"
   ]
  },
  {
   "cell_type": "code",
   "execution_count": 888,
   "metadata": {},
   "outputs": [],
   "source": [
    "df = pd.read_csv('../assets/train.csv')\n",
    "\n",
    "heads = df.keys()[:-1]\n",
    "\n",
    "X = df[heads]\n",
    "y = df['result']\n",
    "\n",
    "x_train, x_test, y_train, y_test = train_test_split(X, y, test_size=0.33)"
   ]
  },
  {
   "cell_type": "code",
   "execution_count": 889,
   "metadata": {},
   "outputs": [],
   "source": [
    "scaler = StandardScaler().fit(x_train) \n",
    "standardized_X = scaler.transform(x_train)\n",
    "\n",
    "x_train = standardized_X"
   ]
  },
  {
   "cell_type": "code",
   "execution_count": 890,
   "metadata": {},
   "outputs": [],
   "source": [
    "scaler = StandardScaler().fit(x_test) \n",
    "standardized_X = scaler.transform(x_test)\n",
    "\n",
    "x_test = standardized_X"
   ]
  },
  {
   "cell_type": "code",
   "execution_count": 891,
   "metadata": {},
   "outputs": [
    {
     "name": "stdout",
     "output_type": "stream",
     "text": [
      "[ 0.99971105  0.86310389  0.80299318 -1.29983596 -0.88281622]\n",
      "[-0.35449221]\n"
     ]
    }
   ],
   "source": [
    "model = svm.SVC(kernel='linear', C = 1.0, probability=True)\n",
    "\n",
    "model.fit(x_train, y_train)\n",
    "w_coeffs = list(model.coef_)[0]\n",
    "b = model.intercept_\n",
    "\n",
    "print(w_coeffs)\n",
    "\n",
    "print(model.intercept_)\n"
   ]
  },
  {
   "cell_type": "code",
   "execution_count": 892,
   "metadata": {},
   "outputs": [],
   "source": [
    "line = list(x_test[10])"
   ]
  },
  {
   "cell_type": "code",
   "execution_count": 893,
   "metadata": {},
   "outputs": [
    {
     "data": {
      "text/plain": [
       "([-0.6270717965666156,\n",
       "  -0.7498071314502132,\n",
       "  -0.9063537657727768,\n",
       "  -0.46173278681778607,\n",
       "  -0.5172256655088346],\n",
       " array([ 0.99971105,  0.86310389,  0.80299318, -1.29983596, -0.88281622]),\n",
       " -0.35449220697468387)"
      ]
     },
     "execution_count": 893,
     "metadata": {},
     "output_type": "execute_result"
    }
   ],
   "source": [
    "line, w_coeffs, b[0]"
   ]
  },
  {
   "cell_type": "code",
   "execution_count": 899,
   "metadata": {},
   "outputs": [
    {
     "data": {
      "text/plain": [
       "21.424108639452115"
      ]
     },
     "execution_count": 899,
     "metadata": {},
     "output_type": "execute_result"
    }
   ],
   "source": [
    "distance_into_probability(line, w_coeffs, b[0]) * 100"
   ]
  },
  {
   "cell_type": "code",
   "execution_count": 898,
   "metadata": {},
   "outputs": [
    {
     "data": {
      "text/plain": [
       "0.21424108639452125"
      ]
     },
     "execution_count": 898,
     "metadata": {},
     "output_type": "execute_result"
    }
   ],
   "source": [
    "des = model.decision_function([x_test[10]])\n",
    "1 / (1 + np.exp(-des[0]))"
   ]
  }
 ],
 "metadata": {
  "interpreter": {
   "hash": "c989ca353b2b46b9b0e3ad651acd70f878a3f5d58ef1a327c34cd4c755ed4c85"
  },
  "kernelspec": {
   "display_name": "Python 3.7.5 64-bit",
   "name": "python3"
  },
  "language_info": {
   "codemirror_mode": {
    "name": "ipython",
    "version": 3
   },
   "file_extension": ".py",
   "mimetype": "text/x-python",
   "name": "python",
   "nbconvert_exporter": "python",
   "pygments_lexer": "ipython3",
   "version": "3.7.5"
  },
  "orig_nbformat": 4
 },
 "nbformat": 4,
 "nbformat_minor": 2
}
