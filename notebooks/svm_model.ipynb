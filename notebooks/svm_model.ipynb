{
 "cells": [
  {
   "cell_type": "code",
   "execution_count": 832,
   "metadata": {},
   "outputs": [],
   "source": [
    "import pandas as pd\n",
    "import numpy as np\n",
    "import matplotlib.pyplot as plt\n",
    "from sklearn import svm\n",
    "from sklearn.model_selection import train_test_split\n",
    "from sklearn.preprocessing import StandardScaler, Normalizer"
   ]
  },
  {
   "cell_type": "code",
   "execution_count": 833,
   "metadata": {},
   "outputs": [],
   "source": [
    "def distance_into_probability(x, w, b):\n",
    "    ''' Функция возвращает по найденному уравнению разделяющей плоскости вероятность объекта быть идеальным\n",
    "    x - это признаки данного объекта\n",
    "    b - вектор коэффициентов в уравнении плоскости '''\n",
    "    lin_comb = b\n",
    "    for i in range(len(x)):\n",
    "        lin_comb += x[i] * w[i]\n",
    "    return 1 / (1 + np.exp(-lin_comb))"
   ]
  },
  {
   "cell_type": "code",
   "execution_count": 834,
   "metadata": {},
   "outputs": [],
   "source": [
    "def get_probabilty(model, row):\n",
    "    ''' Функция возвращает по найденному уравнению разделяющей плоскости вероятность объекта быть идеальным\n",
    "    x - это признаки данного объекта\n",
    "    b - вектор коэффициентов в уравнении плоскости '''\n",
    "    des = model.decision_function([row])\n",
    "    return 1 / (1 + np.exp(-des[0]))"
   ]
  },
  {
   "cell_type": "markdown",
   "metadata": {},
   "source": [
    "Делим исходные данные на признаки и ответы, а также разделяем на данные, на которых обучаем и на которых тестируем"
   ]
  },
  {
   "cell_type": "code",
   "execution_count": 835,
   "metadata": {},
   "outputs": [],
   "source": [
    "df = pd.read_csv('../assets/train.csv')\n",
    "\n",
    "X = df.loc[:, :'pollutedPointsPercentage']\n",
    "y = df.loc[:, 'result']\n",
    "\n",
    "x_train, x_test, y_train, y_test = train_test_split(X, y, test_size=0.33)"
   ]
  },
  {
   "cell_type": "code",
   "execution_count": 836,
   "metadata": {},
   "outputs": [],
   "source": [
    "scaler = StandardScaler()\n",
    "\n",
    "x_train = scaler.fit_transform(x_train)\n",
    "x_test = scaler.fit_transform(x_test)"
   ]
  },
  {
   "cell_type": "markdown",
   "metadata": {},
   "source": [
    "Объявление и обучение модели"
   ]
  },
  {
   "cell_type": "code",
   "execution_count": 837,
   "metadata": {},
   "outputs": [
    {
     "data": {
      "text/plain": [
       "SVC(kernel='linear', probability=True)"
      ]
     },
     "execution_count": 837,
     "metadata": {},
     "output_type": "execute_result"
    }
   ],
   "source": [
    "model = svm.SVC(kernel='linear', C = 1.0, probability=True)\n",
    "model.fit(x_train, y_train)"
   ]
  },
  {
   "cell_type": "code",
   "execution_count": 838,
   "metadata": {},
   "outputs": [
    {
     "data": {
      "text/plain": [
       "0.13868135232510675"
      ]
     },
     "execution_count": 838,
     "metadata": {},
     "output_type": "execute_result"
    }
   ],
   "source": [
    "get_probabilty(model, x_test[10]) * 100"
   ]
  },
  {
   "cell_type": "markdown",
   "metadata": {},
   "source": [
    "Экспортирование модели в папку `/models`"
   ]
  },
  {
   "cell_type": "code",
   "execution_count": 839,
   "metadata": {},
   "outputs": [
    {
     "data": {
      "text/plain": [
       "['../models/svc.pkl']"
      ]
     },
     "execution_count": 839,
     "metadata": {},
     "output_type": "execute_result"
    }
   ],
   "source": [
    "import joblib\n",
    "joblib.dump(model, '../models/svc.pkl')"
   ]
  }
 ],
 "metadata": {
  "interpreter": {
   "hash": "c989ca353b2b46b9b0e3ad651acd70f878a3f5d58ef1a327c34cd4c755ed4c85"
  },
  "kernelspec": {
   "display_name": "Python 3.7.5 64-bit",
   "name": "python3"
  },
  "language_info": {
   "codemirror_mode": {
    "name": "ipython",
    "version": 3
   },
   "file_extension": ".py",
   "mimetype": "text/x-python",
   "name": "python",
   "nbconvert_exporter": "python",
   "pygments_lexer": "ipython3",
   "version": "3.7.5"
  },
  "orig_nbformat": 4
 },
 "nbformat": 4,
 "nbformat_minor": 2
}
